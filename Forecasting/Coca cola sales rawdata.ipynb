{
 "cells": [
  {
   "cell_type": "code",
   "execution_count": 3,
   "id": "1a8bb971",
   "metadata": {
    "ExecuteTime": {
     "end_time": "2022-06-21T11:39:26.720895Z",
     "start_time": "2022-06-21T11:39:26.689763Z"
    }
   },
   "outputs": [],
   "source": [
    "# Importing required libraries\n",
    "import numpy as np\n",
    "import pandas as pd, datetime\n",
    "import seaborn as sns\n",
    "from statsmodels.tsa.stattools import adfuller\n",
    "import matplotlib.pyplot as plt\n",
    "get_ipython().run_line_magic('matplotlib', 'inline')\n",
    "from time import time\n",
    "import os\n",
    "from math import sqrt\n",
    "from statsmodels.tsa.seasonal import seasonal_decompose\n",
    "from statsmodels.graphics.tsaplots import plot_acf, plot_pacf\n",
    "import itertools\n",
    "import statsmodels.api as sm\n",
    "from statsmodels.tsa.stattools import acf,pacf\n",
    "from statsmodels.tsa.arima_model import  ARIMA\n",
    "from sklearn import model_selection\n",
    "from sklearn.metrics import mean_squared_error, r2_score\n",
    "from pandas import DataFrame\n",
    "import warnings\n",
    "warnings.filterwarnings('ignore')"
   ]
  },
  {
   "cell_type": "code",
   "execution_count": 4,
   "id": "87e948fa",
   "metadata": {
    "ExecuteTime": {
     "end_time": "2022-06-21T11:39:57.412150Z",
     "start_time": "2022-06-21T11:39:57.018125Z"
    }
   },
   "outputs": [],
   "source": [
    "store = pd.read_excel(\"CocaCola_Sales_Rawdata.xlsx\")"
   ]
  },
  {
   "cell_type": "code",
   "execution_count": 5,
   "id": "261cf62b",
   "metadata": {
    "ExecuteTime": {
     "end_time": "2022-06-21T11:40:12.089089Z",
     "start_time": "2022-06-21T11:40:12.071036Z"
    }
   },
   "outputs": [
    {
     "data": {
      "text/html": [
       "<div>\n",
       "<style scoped>\n",
       "    .dataframe tbody tr th:only-of-type {\n",
       "        vertical-align: middle;\n",
       "    }\n",
       "\n",
       "    .dataframe tbody tr th {\n",
       "        vertical-align: top;\n",
       "    }\n",
       "\n",
       "    .dataframe thead th {\n",
       "        text-align: right;\n",
       "    }\n",
       "</style>\n",
       "<table border=\"1\" class=\"dataframe\">\n",
       "  <thead>\n",
       "    <tr style=\"text-align: right;\">\n",
       "      <th></th>\n",
       "      <th>Quarter</th>\n",
       "      <th>Sales</th>\n",
       "    </tr>\n",
       "  </thead>\n",
       "  <tbody>\n",
       "    <tr>\n",
       "      <th>0</th>\n",
       "      <td>Q1_86</td>\n",
       "      <td>1734.827000</td>\n",
       "    </tr>\n",
       "    <tr>\n",
       "      <th>1</th>\n",
       "      <td>Q2_86</td>\n",
       "      <td>2244.960999</td>\n",
       "    </tr>\n",
       "    <tr>\n",
       "      <th>2</th>\n",
       "      <td>Q3_86</td>\n",
       "      <td>2533.804993</td>\n",
       "    </tr>\n",
       "    <tr>\n",
       "      <th>3</th>\n",
       "      <td>Q4_86</td>\n",
       "      <td>2154.962997</td>\n",
       "    </tr>\n",
       "    <tr>\n",
       "      <th>4</th>\n",
       "      <td>Q1_87</td>\n",
       "      <td>1547.818996</td>\n",
       "    </tr>\n",
       "    <tr>\n",
       "      <th>5</th>\n",
       "      <td>Q2_87</td>\n",
       "      <td>2104.411995</td>\n",
       "    </tr>\n",
       "    <tr>\n",
       "      <th>6</th>\n",
       "      <td>Q3_87</td>\n",
       "      <td>2014.362999</td>\n",
       "    </tr>\n",
       "    <tr>\n",
       "      <th>7</th>\n",
       "      <td>Q4_87</td>\n",
       "      <td>1991.746998</td>\n",
       "    </tr>\n",
       "    <tr>\n",
       "      <th>8</th>\n",
       "      <td>Q1_88</td>\n",
       "      <td>1869.049999</td>\n",
       "    </tr>\n",
       "    <tr>\n",
       "      <th>9</th>\n",
       "      <td>Q2_88</td>\n",
       "      <td>2313.631996</td>\n",
       "    </tr>\n",
       "    <tr>\n",
       "      <th>10</th>\n",
       "      <td>Q3_88</td>\n",
       "      <td>2128.320000</td>\n",
       "    </tr>\n",
       "    <tr>\n",
       "      <th>11</th>\n",
       "      <td>Q4_88</td>\n",
       "      <td>2026.828999</td>\n",
       "    </tr>\n",
       "    <tr>\n",
       "      <th>12</th>\n",
       "      <td>Q1_89</td>\n",
       "      <td>1910.603996</td>\n",
       "    </tr>\n",
       "    <tr>\n",
       "      <th>13</th>\n",
       "      <td>Q2_89</td>\n",
       "      <td>2331.164993</td>\n",
       "    </tr>\n",
       "    <tr>\n",
       "      <th>14</th>\n",
       "      <td>Q3_89</td>\n",
       "      <td>2206.549995</td>\n",
       "    </tr>\n",
       "    <tr>\n",
       "      <th>15</th>\n",
       "      <td>Q4_89</td>\n",
       "      <td>2173.967995</td>\n",
       "    </tr>\n",
       "    <tr>\n",
       "      <th>16</th>\n",
       "      <td>Q1_90</td>\n",
       "      <td>2148.278000</td>\n",
       "    </tr>\n",
       "    <tr>\n",
       "      <th>17</th>\n",
       "      <td>Q2_90</td>\n",
       "      <td>2739.307999</td>\n",
       "    </tr>\n",
       "    <tr>\n",
       "      <th>18</th>\n",
       "      <td>Q3_90</td>\n",
       "      <td>2792.753998</td>\n",
       "    </tr>\n",
       "    <tr>\n",
       "      <th>19</th>\n",
       "      <td>Q4_90</td>\n",
       "      <td>2556.009995</td>\n",
       "    </tr>\n",
       "    <tr>\n",
       "      <th>20</th>\n",
       "      <td>Q1_91</td>\n",
       "      <td>2480.973999</td>\n",
       "    </tr>\n",
       "    <tr>\n",
       "      <th>21</th>\n",
       "      <td>Q2_91</td>\n",
       "      <td>3039.522995</td>\n",
       "    </tr>\n",
       "    <tr>\n",
       "      <th>22</th>\n",
       "      <td>Q3_91</td>\n",
       "      <td>3172.115997</td>\n",
       "    </tr>\n",
       "    <tr>\n",
       "      <th>23</th>\n",
       "      <td>Q4_91</td>\n",
       "      <td>2879.000999</td>\n",
       "    </tr>\n",
       "    <tr>\n",
       "      <th>24</th>\n",
       "      <td>Q1_92</td>\n",
       "      <td>2772.000000</td>\n",
       "    </tr>\n",
       "    <tr>\n",
       "      <th>25</th>\n",
       "      <td>Q2_92</td>\n",
       "      <td>3550.000000</td>\n",
       "    </tr>\n",
       "    <tr>\n",
       "      <th>26</th>\n",
       "      <td>Q3_92</td>\n",
       "      <td>3508.000000</td>\n",
       "    </tr>\n",
       "    <tr>\n",
       "      <th>27</th>\n",
       "      <td>Q4_92</td>\n",
       "      <td>3243.859993</td>\n",
       "    </tr>\n",
       "    <tr>\n",
       "      <th>28</th>\n",
       "      <td>Q1_93</td>\n",
       "      <td>3056.000000</td>\n",
       "    </tr>\n",
       "    <tr>\n",
       "      <th>29</th>\n",
       "      <td>Q2_93</td>\n",
       "      <td>3899.000000</td>\n",
       "    </tr>\n",
       "    <tr>\n",
       "      <th>30</th>\n",
       "      <td>Q3_93</td>\n",
       "      <td>3629.000000</td>\n",
       "    </tr>\n",
       "    <tr>\n",
       "      <th>31</th>\n",
       "      <td>Q4_93</td>\n",
       "      <td>3373.000000</td>\n",
       "    </tr>\n",
       "    <tr>\n",
       "      <th>32</th>\n",
       "      <td>Q1_94</td>\n",
       "      <td>3352.000000</td>\n",
       "    </tr>\n",
       "    <tr>\n",
       "      <th>33</th>\n",
       "      <td>Q2_94</td>\n",
       "      <td>4342.000000</td>\n",
       "    </tr>\n",
       "    <tr>\n",
       "      <th>34</th>\n",
       "      <td>Q3_94</td>\n",
       "      <td>4461.000000</td>\n",
       "    </tr>\n",
       "    <tr>\n",
       "      <th>35</th>\n",
       "      <td>Q4_94</td>\n",
       "      <td>4017.000000</td>\n",
       "    </tr>\n",
       "    <tr>\n",
       "      <th>36</th>\n",
       "      <td>Q1_95</td>\n",
       "      <td>3854.000000</td>\n",
       "    </tr>\n",
       "    <tr>\n",
       "      <th>37</th>\n",
       "      <td>Q2_95</td>\n",
       "      <td>4936.000000</td>\n",
       "    </tr>\n",
       "    <tr>\n",
       "      <th>38</th>\n",
       "      <td>Q3_95</td>\n",
       "      <td>4895.000000</td>\n",
       "    </tr>\n",
       "    <tr>\n",
       "      <th>39</th>\n",
       "      <td>Q4_95</td>\n",
       "      <td>4333.000000</td>\n",
       "    </tr>\n",
       "    <tr>\n",
       "      <th>40</th>\n",
       "      <td>Q1_96</td>\n",
       "      <td>4194.000000</td>\n",
       "    </tr>\n",
       "    <tr>\n",
       "      <th>41</th>\n",
       "      <td>Q2_96</td>\n",
       "      <td>5253.000000</td>\n",
       "    </tr>\n",
       "  </tbody>\n",
       "</table>\n",
       "</div>"
      ],
      "text/plain": [
       "   Quarter        Sales\n",
       "0    Q1_86  1734.827000\n",
       "1    Q2_86  2244.960999\n",
       "2    Q3_86  2533.804993\n",
       "3    Q4_86  2154.962997\n",
       "4    Q1_87  1547.818996\n",
       "5    Q2_87  2104.411995\n",
       "6    Q3_87  2014.362999\n",
       "7    Q4_87  1991.746998\n",
       "8    Q1_88  1869.049999\n",
       "9    Q2_88  2313.631996\n",
       "10   Q3_88  2128.320000\n",
       "11   Q4_88  2026.828999\n",
       "12   Q1_89  1910.603996\n",
       "13   Q2_89  2331.164993\n",
       "14   Q3_89  2206.549995\n",
       "15   Q4_89  2173.967995\n",
       "16   Q1_90  2148.278000\n",
       "17   Q2_90  2739.307999\n",
       "18   Q3_90  2792.753998\n",
       "19   Q4_90  2556.009995\n",
       "20   Q1_91  2480.973999\n",
       "21   Q2_91  3039.522995\n",
       "22   Q3_91  3172.115997\n",
       "23   Q4_91  2879.000999\n",
       "24   Q1_92  2772.000000\n",
       "25   Q2_92  3550.000000\n",
       "26   Q3_92  3508.000000\n",
       "27   Q4_92  3243.859993\n",
       "28   Q1_93  3056.000000\n",
       "29   Q2_93  3899.000000\n",
       "30   Q3_93  3629.000000\n",
       "31   Q4_93  3373.000000\n",
       "32   Q1_94  3352.000000\n",
       "33   Q2_94  4342.000000\n",
       "34   Q3_94  4461.000000\n",
       "35   Q4_94  4017.000000\n",
       "36   Q1_95  3854.000000\n",
       "37   Q2_95  4936.000000\n",
       "38   Q3_95  4895.000000\n",
       "39   Q4_95  4333.000000\n",
       "40   Q1_96  4194.000000\n",
       "41   Q2_96  5253.000000"
      ]
     },
     "execution_count": 5,
     "metadata": {},
     "output_type": "execute_result"
    }
   ],
   "source": [
    "store"
   ]
  },
  {
   "cell_type": "code",
   "execution_count": 6,
   "id": "887752c1",
   "metadata": {
    "ExecuteTime": {
     "end_time": "2022-06-21T11:40:21.834624Z",
     "start_time": "2022-06-21T11:40:21.818442Z"
    }
   },
   "outputs": [
    {
     "data": {
      "text/html": [
       "<div>\n",
       "<style scoped>\n",
       "    .dataframe tbody tr th:only-of-type {\n",
       "        vertical-align: middle;\n",
       "    }\n",
       "\n",
       "    .dataframe tbody tr th {\n",
       "        vertical-align: top;\n",
       "    }\n",
       "\n",
       "    .dataframe thead th {\n",
       "        text-align: right;\n",
       "    }\n",
       "</style>\n",
       "<table border=\"1\" class=\"dataframe\">\n",
       "  <thead>\n",
       "    <tr style=\"text-align: right;\">\n",
       "      <th></th>\n",
       "      <th>Quarter</th>\n",
       "      <th>Sales</th>\n",
       "    </tr>\n",
       "  </thead>\n",
       "  <tbody>\n",
       "    <tr>\n",
       "      <th>0</th>\n",
       "      <td>Q1_86</td>\n",
       "      <td>1734.827000</td>\n",
       "    </tr>\n",
       "    <tr>\n",
       "      <th>1</th>\n",
       "      <td>Q2_86</td>\n",
       "      <td>2244.960999</td>\n",
       "    </tr>\n",
       "    <tr>\n",
       "      <th>2</th>\n",
       "      <td>Q3_86</td>\n",
       "      <td>2533.804993</td>\n",
       "    </tr>\n",
       "    <tr>\n",
       "      <th>3</th>\n",
       "      <td>Q4_86</td>\n",
       "      <td>2154.962997</td>\n",
       "    </tr>\n",
       "    <tr>\n",
       "      <th>4</th>\n",
       "      <td>Q1_87</td>\n",
       "      <td>1547.818996</td>\n",
       "    </tr>\n",
       "  </tbody>\n",
       "</table>\n",
       "</div>"
      ],
      "text/plain": [
       "  Quarter        Sales\n",
       "0   Q1_86  1734.827000\n",
       "1   Q2_86  2244.960999\n",
       "2   Q3_86  2533.804993\n",
       "3   Q4_86  2154.962997\n",
       "4   Q1_87  1547.818996"
      ]
     },
     "execution_count": 6,
     "metadata": {},
     "output_type": "execute_result"
    }
   ],
   "source": [
    "store.head()"
   ]
  },
  {
   "cell_type": "code",
   "execution_count": 7,
   "id": "c0fcd831",
   "metadata": {
    "ExecuteTime": {
     "end_time": "2022-06-21T11:40:30.073172Z",
     "start_time": "2022-06-21T11:40:30.059251Z"
    }
   },
   "outputs": [
    {
     "data": {
      "text/html": [
       "<div>\n",
       "<style scoped>\n",
       "    .dataframe tbody tr th:only-of-type {\n",
       "        vertical-align: middle;\n",
       "    }\n",
       "\n",
       "    .dataframe tbody tr th {\n",
       "        vertical-align: top;\n",
       "    }\n",
       "\n",
       "    .dataframe thead th {\n",
       "        text-align: right;\n",
       "    }\n",
       "</style>\n",
       "<table border=\"1\" class=\"dataframe\">\n",
       "  <thead>\n",
       "    <tr style=\"text-align: right;\">\n",
       "      <th></th>\n",
       "      <th>Quarter</th>\n",
       "      <th>Sales</th>\n",
       "    </tr>\n",
       "  </thead>\n",
       "  <tbody>\n",
       "    <tr>\n",
       "      <th>37</th>\n",
       "      <td>Q2_95</td>\n",
       "      <td>4936.0</td>\n",
       "    </tr>\n",
       "    <tr>\n",
       "      <th>38</th>\n",
       "      <td>Q3_95</td>\n",
       "      <td>4895.0</td>\n",
       "    </tr>\n",
       "    <tr>\n",
       "      <th>39</th>\n",
       "      <td>Q4_95</td>\n",
       "      <td>4333.0</td>\n",
       "    </tr>\n",
       "    <tr>\n",
       "      <th>40</th>\n",
       "      <td>Q1_96</td>\n",
       "      <td>4194.0</td>\n",
       "    </tr>\n",
       "    <tr>\n",
       "      <th>41</th>\n",
       "      <td>Q2_96</td>\n",
       "      <td>5253.0</td>\n",
       "    </tr>\n",
       "  </tbody>\n",
       "</table>\n",
       "</div>"
      ],
      "text/plain": [
       "   Quarter   Sales\n",
       "37   Q2_95  4936.0\n",
       "38   Q3_95  4895.0\n",
       "39   Q4_95  4333.0\n",
       "40   Q1_96  4194.0\n",
       "41   Q2_96  5253.0"
      ]
     },
     "execution_count": 7,
     "metadata": {},
     "output_type": "execute_result"
    }
   ],
   "source": [
    "store.tail()"
   ]
  },
  {
   "cell_type": "code",
   "execution_count": 8,
   "id": "76ce70c2",
   "metadata": {
    "ExecuteTime": {
     "end_time": "2022-06-21T11:40:41.907754Z",
     "start_time": "2022-06-21T11:40:41.896467Z"
    }
   },
   "outputs": [
    {
     "data": {
      "text/plain": [
       "Index(['Quarter', 'Sales'], dtype='object')"
      ]
     },
     "execution_count": 8,
     "metadata": {},
     "output_type": "execute_result"
    }
   ],
   "source": [
    "store.columns"
   ]
  },
  {
   "cell_type": "code",
   "execution_count": 9,
   "id": "83551119",
   "metadata": {
    "ExecuteTime": {
     "end_time": "2022-06-21T11:40:49.076361Z",
     "start_time": "2022-06-21T11:40:49.068093Z"
    }
   },
   "outputs": [
    {
     "data": {
      "text/plain": [
       "(42, 2)"
      ]
     },
     "execution_count": 9,
     "metadata": {},
     "output_type": "execute_result"
    }
   ],
   "source": [
    "store.shape"
   ]
  },
  {
   "cell_type": "code",
   "execution_count": 10,
   "id": "0f8919de",
   "metadata": {
    "ExecuteTime": {
     "end_time": "2022-06-21T11:41:05.737349Z",
     "start_time": "2022-06-21T11:41:05.727197Z"
    }
   },
   "outputs": [],
   "source": [
    "quarter=['Q1','Q2','Q3','Q4']\n",
    "n=store['Quarter'][0]\n",
    "n[0:2]\n",
    "\n",
    "store['quarter']=0"
   ]
  },
  {
   "cell_type": "code",
   "execution_count": 11,
   "id": "8f691d4b",
   "metadata": {
    "ExecuteTime": {
     "end_time": "2022-06-21T11:41:16.876702Z",
     "start_time": "2022-06-21T11:41:16.863765Z"
    }
   },
   "outputs": [],
   "source": [
    "for i in range(42):\n",
    "    n=store['Quarter'][i]\n",
    "    store['quarter'][i]=n[0:2]"
   ]
  },
  {
   "cell_type": "code",
   "execution_count": 12,
   "id": "6fdcd940",
   "metadata": {
    "ExecuteTime": {
     "end_time": "2022-06-21T11:41:31.706460Z",
     "start_time": "2022-06-21T11:41:31.694553Z"
    }
   },
   "outputs": [],
   "source": [
    "dummy=pd.DataFrame(pd.get_dummies(store['quarter']))"
   ]
  },
  {
   "cell_type": "code",
   "execution_count": 13,
   "id": "728ad6a5",
   "metadata": {
    "ExecuteTime": {
     "end_time": "2022-06-21T11:41:42.352250Z",
     "start_time": "2022-06-21T11:41:42.341250Z"
    }
   },
   "outputs": [],
   "source": [
    "coco=pd.concat((store,dummy),axis=1)\n",
    "t= np.arange(1,43)\n",
    "coco['t']=t\n",
    "coco['t_square']=coco['t']*coco['t']"
   ]
  },
  {
   "cell_type": "code",
   "execution_count": 14,
   "id": "f6d2f357",
   "metadata": {
    "ExecuteTime": {
     "end_time": "2022-06-21T11:41:53.070846Z",
     "start_time": "2022-06-21T11:41:53.064776Z"
    }
   },
   "outputs": [],
   "source": [
    "log_Sales=np.log(coco['Sales'])\n",
    "coco['log_Sales']=log_Sales"
   ]
  },
  {
   "cell_type": "code",
   "execution_count": 15,
   "id": "465108ed",
   "metadata": {
    "ExecuteTime": {
     "end_time": "2022-06-21T11:42:01.742813Z",
     "start_time": "2022-06-21T11:42:01.611201Z"
    }
   },
   "outputs": [
    {
     "data": {
      "text/plain": [
       "<AxesSubplot:>"
      ]
     },
     "execution_count": 15,
     "metadata": {},
     "output_type": "execute_result"
    },
    {
     "data": {
      "image/png": "[encoded data removed]",
      "text/plain": [
       "<Figure size 432x288 with 1 Axes>"
      ]
     },
     "metadata": {
      "needs_background": "light"
     },
     "output_type": "display_data"
    }
   ],
   "source": [
    "train= coco.head(38)\n",
    "test=coco.tail(4)\n",
    "coco.Sales.plot()"
   ]
  },
  {
   "cell_type": "code",
   "execution_count": 16,
   "id": "3cc7a7bf",
   "metadata": {
    "ExecuteTime": {
     "end_time": "2022-06-21T11:42:14.267173Z",
     "start_time": "2022-06-21T11:42:14.246614Z"
    }
   },
   "outputs": [
    {
     "data": {
      "text/plain": [
       "421.1787876002277"
      ]
     },
     "execution_count": 16,
     "metadata": {},
     "output_type": "execute_result"
    }
   ],
   "source": [
    "import statsmodels.formula.api as smf\n",
    "\n",
    "#linear model\n",
    "linear= smf.ols('Sales~t',data=train).fit()\n",
    "predlin=pd.Series(linear.predict(pd.DataFrame(test['t'])))\n",
    "rmselin=np.sqrt((np.mean(np.array(test['Sales'])-np.array(predlin))**2))\n",
    "rmselin"
   ]
  },
  {
   "cell_type": "code",
   "execution_count": 17,
   "id": "45b7d915",
   "metadata": {
    "ExecuteTime": {
     "end_time": "2022-06-21T11:42:23.693350Z",
     "start_time": "2022-06-21T11:42:23.668000Z"
    }
   },
   "outputs": [
    {
     "data": {
      "text/plain": [
       "475.56183518315254"
      ]
     },
     "execution_count": 17,
     "metadata": {},
     "output_type": "execute_result"
    }
   ],
   "source": [
    "#quadratic model\n",
    "quad=smf.ols('Sales~t+t_square',data=train).fit()\n",
    "predquad=pd.Series(quad.predict(pd.DataFrame(test[['t','t_square']])))\n",
    "rmsequad=np.sqrt(np.mean((np.array(test['Sales'])-np.array(predquad))**2))\n",
    "rmsequad"
   ]
  },
  {
   "cell_type": "code",
   "execution_count": 18,
   "id": "c9df2415",
   "metadata": {
    "ExecuteTime": {
     "end_time": "2022-06-21T11:42:35.746452Z",
     "start_time": "2022-06-21T11:42:35.720555Z"
    }
   },
   "outputs": [
    {
     "data": {
      "text/plain": [
       "466.24797310672255"
      ]
     },
     "execution_count": 18,
     "metadata": {},
     "output_type": "execute_result"
    }
   ],
   "source": [
    "#exponential model\n",
    "expo=smf.ols('log_Sales~t',data=train).fit()\n",
    "predexp=pd.Series(expo.predict(pd.DataFrame(test['t'])))\n",
    "predexp\n",
    "rmseexpo=np.sqrt(np.mean((np.array(test['Sales'])-np.array(np.exp(predexp)))**2))\n",
    "rmseexpo"
   ]
  },
  {
   "cell_type": "code",
   "execution_count": 19,
   "id": "55fe25db",
   "metadata": {
    "ExecuteTime": {
     "end_time": "2022-06-21T11:42:46.120767Z",
     "start_time": "2022-06-21T11:42:46.084959Z"
    }
   },
   "outputs": [
    {
     "data": {
      "text/plain": [
       "1860.0238154547278"
      ]
     },
     "execution_count": 19,
     "metadata": {},
     "output_type": "execute_result"
    }
   ],
   "source": [
    "#additive seasonality\n",
    "additive= smf.ols('Sales~ Q1+Q2+Q3+Q4',data=train).fit()\n",
    "predadd=pd.Series(additive.predict(pd.DataFrame(test[['Q1','Q2','Q3','Q4']])))\n",
    "predadd\n",
    "rmseadd=np.sqrt(np.mean((np.array(test['Sales'])-np.array(predadd))**2))\n",
    "rmseadd"
   ]
  },
  {
   "cell_type": "code",
   "execution_count": 20,
   "id": "e77c5ee4",
   "metadata": {
    "ExecuteTime": {
     "end_time": "2022-06-21T11:42:58.018644Z",
     "start_time": "2022-06-21T11:42:57.995704Z"
    }
   },
   "outputs": [
    {
     "data": {
      "text/plain": [
       "464.9829023982241"
      ]
     },
     "execution_count": 20,
     "metadata": {},
     "output_type": "execute_result"
    }
   ],
   "source": [
    "#additive seasonality with linear trend\n",
    "addlinear= smf.ols('Sales~t+Q1+Q2+Q3+Q4',data=train).fit()\n",
    "predaddlinear=pd.Series(addlinear.predict(pd.DataFrame(test[['t','Q1','Q2','Q3','Q4']])))\n",
    "predaddlinear\n",
    "\n",
    "rmseaddlinear=np.sqrt(np.mean((np.array(test['Sales'])-np.array(predaddlinear))**2))\n",
    "rmseaddlinear"
   ]
  },
  {
   "cell_type": "code",
   "execution_count": 21,
   "id": "7f2a68a2",
   "metadata": {
    "ExecuteTime": {
     "end_time": "2022-06-21T11:43:09.916485Z",
     "start_time": "2022-06-21T11:43:09.881934Z"
    }
   },
   "outputs": [
    {
     "data": {
      "text/plain": [
       "301.7380071935301"
      ]
     },
     "execution_count": 21,
     "metadata": {},
     "output_type": "execute_result"
    }
   ],
   "source": [
    "#additive seasonality with quadratic trend\n",
    "addquad=smf.ols('Sales~t+t_square+Q1+Q2+Q3+Q4',data=train).fit()\n",
    "predaddquad=pd.Series(addquad.predict(pd.DataFrame(test[['t','t_square','Q1','Q2','Q3','Q4']])))\n",
    "rmseaddquad=np.sqrt(np.mean((np.array(test['Sales'])-np.array(predaddquad))**2))\n",
    "rmseaddquad"
   ]
  },
  {
   "cell_type": "code",
   "execution_count": 22,
   "id": "b85e8295",
   "metadata": {
    "ExecuteTime": {
     "end_time": "2022-06-21T11:43:19.517858Z",
     "start_time": "2022-06-21T11:43:19.496237Z"
    }
   },
   "outputs": [
    {
     "data": {
      "text/plain": [
       "1963.389640077973"
      ]
     },
     "execution_count": 22,
     "metadata": {},
     "output_type": "execute_result"
    }
   ],
   "source": [
    "#multiplicative seasonality\n",
    "mulsea=smf.ols('log_Sales~Q1+Q2+Q3+Q4',data=train).fit()\n",
    "predmul= pd.Series(mulsea.predict(pd.DataFrame(test[['Q1','Q2','Q3','Q4']])))\n",
    "rmsemul= np.sqrt(np.mean((np.array(test['Sales'])-np.array(np.exp(predmul)))**2))\n",
    "rmsemul"
   ]
  },
  {
   "cell_type": "code",
   "execution_count": 23,
   "id": "b33be83d",
   "metadata": {
    "ExecuteTime": {
     "end_time": "2022-06-21T11:43:30.647621Z",
     "start_time": "2022-06-21T11:43:30.614241Z"
    }
   },
   "outputs": [
    {
     "data": {
      "text/plain": [
       "225.52439049826944"
      ]
     },
     "execution_count": 23,
     "metadata": {},
     "output_type": "execute_result"
    }
   ],
   "source": [
    "#multiplicative seasonality with linear trend\n",
    "mullin= smf.ols('log_Sales~t+Q1+Q2+Q3+Q4',data=train).fit()\n",
    "predmullin= pd.Series(mullin.predict(pd.DataFrame(test[['t','Q1','Q2','Q3','Q4']])))\n",
    "rmsemulin=np.sqrt(np.mean((np.array(test['Sales'])-np.array(np.exp(predmullin)))**2))\n",
    "rmsemulin"
   ]
  },
  {
   "cell_type": "code",
   "execution_count": 24,
   "id": "373cca57",
   "metadata": {
    "ExecuteTime": {
     "end_time": "2022-06-21T11:43:39.200024Z",
     "start_time": "2022-06-21T11:43:39.161371Z"
    }
   },
   "outputs": [
    {
     "data": {
      "text/plain": [
       "581.8457187971875"
      ]
     },
     "execution_count": 24,
     "metadata": {},
     "output_type": "execute_result"
    }
   ],
   "source": [
    "#multiplicative seasonality with quadratic trend\n",
    "mul_quad= smf.ols('log_Sales~t+t_square+Q1+Q2+Q3+Q4',data=train).fit()\n",
    "pred_mul_quad= pd.Series(mul_quad.predict(test[['t','t_square','Q1','Q2','Q3','Q4']]))\n",
    "rmse_mul_quad=np.sqrt(np.mean((np.array(test['Sales'])-np.array(np.exp(pred_mul_quad)))**2))\n",
    "rmse_mul_quad"
   ]
  },
  {
   "cell_type": "code",
   "execution_count": 25,
   "id": "48bc1695",
   "metadata": {
    "ExecuteTime": {
     "end_time": "2022-06-21T11:43:52.788653Z",
     "start_time": "2022-06-21T11:43:52.777334Z"
    }
   },
   "outputs": [
    {
     "data": {
      "text/plain": [
       "{'Model': 0    rmse_mul_quad\n",
       " 1          rmseadd\n",
       " 2    rmseaddlinear\n",
       " 3      rmseaddquad\n",
       " 4         rmseexpo\n",
       " 5          rmselin\n",
       " 6          rmsemul\n",
       " 7        rmsemulin\n",
       " 8         rmsequad\n",
       " dtype: object,\n",
       " 'Values': 0     581.845719\n",
       " 1    1860.023815\n",
       " 2     464.982902\n",
       " 3     301.738007\n",
       " 4     466.247973\n",
       " 5     421.178788\n",
       " 6    1963.389640\n",
       " 7     225.524390\n",
       " 8     475.561835\n",
       " dtype: float64}"
      ]
     },
     "execution_count": 25,
     "metadata": {},
     "output_type": "execute_result"
    }
   ],
   "source": [
    "#tabulating the rmse values\n",
    "\n",
    "data={'Model':pd.Series(['rmse_mul_quad','rmseadd','rmseaddlinear','rmseaddquad','rmseexpo','rmselin','rmsemul','rmsemulin','rmsequad']),'Values':pd.Series([rmse_mul_quad,rmseadd,rmseaddlinear,rmseaddquad,rmseexpo,rmselin,rmsemul,rmsemulin,rmsequad])}\n",
    "data"
   ]
  },
  {
   "cell_type": "code",
   "execution_count": 26,
   "id": "c4a6d26e",
   "metadata": {
    "ExecuteTime": {
     "end_time": "2022-06-21T11:44:04.971582Z",
     "start_time": "2022-06-21T11:44:04.955406Z"
    }
   },
   "outputs": [
    {
     "data": {
      "text/html": [
       "<div>\n",
       "<style scoped>\n",
       "    .dataframe tbody tr th:only-of-type {\n",
       "        vertical-align: middle;\n",
       "    }\n",
       "\n",
       "    .dataframe tbody tr th {\n",
       "        vertical-align: top;\n",
       "    }\n",
       "\n",
       "    .dataframe thead th {\n",
       "        text-align: right;\n",
       "    }\n",
       "</style>\n",
       "<table border=\"1\" class=\"dataframe\">\n",
       "  <thead>\n",
       "    <tr style=\"text-align: right;\">\n",
       "      <th></th>\n",
       "      <th>Model</th>\n",
       "      <th>Values</th>\n",
       "    </tr>\n",
       "  </thead>\n",
       "  <tbody>\n",
       "    <tr>\n",
       "      <th>0</th>\n",
       "      <td>rmse_mul_quad</td>\n",
       "      <td>581.845719</td>\n",
       "    </tr>\n",
       "    <tr>\n",
       "      <th>1</th>\n",
       "      <td>rmseadd</td>\n",
       "      <td>1860.023815</td>\n",
       "    </tr>\n",
       "    <tr>\n",
       "      <th>2</th>\n",
       "      <td>rmseaddlinear</td>\n",
       "      <td>464.982902</td>\n",
       "    </tr>\n",
       "    <tr>\n",
       "      <th>3</th>\n",
       "      <td>rmseaddquad</td>\n",
       "      <td>301.738007</td>\n",
       "    </tr>\n",
       "    <tr>\n",
       "      <th>4</th>\n",
       "      <td>rmseexpo</td>\n",
       "      <td>466.247973</td>\n",
       "    </tr>\n",
       "    <tr>\n",
       "      <th>5</th>\n",
       "      <td>rmselin</td>\n",
       "      <td>421.178788</td>\n",
       "    </tr>\n",
       "    <tr>\n",
       "      <th>6</th>\n",
       "      <td>rmsemul</td>\n",
       "      <td>1963.389640</td>\n",
       "    </tr>\n",
       "    <tr>\n",
       "      <th>7</th>\n",
       "      <td>rmsemulin</td>\n",
       "      <td>225.524390</td>\n",
       "    </tr>\n",
       "    <tr>\n",
       "      <th>8</th>\n",
       "      <td>rmsequad</td>\n",
       "      <td>475.561835</td>\n",
       "    </tr>\n",
       "  </tbody>\n",
       "</table>\n",
       "</div>"
      ],
      "text/plain": [
       "           Model       Values\n",
       "0  rmse_mul_quad   581.845719\n",
       "1        rmseadd  1860.023815\n",
       "2  rmseaddlinear   464.982902\n",
       "3    rmseaddquad   301.738007\n",
       "4       rmseexpo   466.247973\n",
       "5        rmselin   421.178788\n",
       "6        rmsemul  1963.389640\n",
       "7      rmsemulin   225.524390\n",
       "8       rmsequad   475.561835"
      ]
     },
     "execution_count": 26,
     "metadata": {},
     "output_type": "execute_result"
    }
   ],
   "source": [
    "Rmse=pd.DataFrame(data)\n",
    "Rmse"
   ]
  },
  {
   "cell_type": "code",
   "execution_count": 27,
   "id": "f51d3688",
   "metadata": {
    "ExecuteTime": {
     "end_time": "2022-06-21T11:44:16.615473Z",
     "start_time": "2022-06-21T11:44:16.500939Z"
    }
   },
   "outputs": [
    {
     "data": {
      "text/plain": [
       "<AxesSubplot:xlabel='Sales'>"
      ]
     },
     "execution_count": 27,
     "metadata": {},
     "output_type": "execute_result"
    },
    {
     "data": {
      "image/png": "[encoded data removed]",
      "text/plain": [
       "<Figure size 432x288 with 1 Axes>"
      ]
     },
     "metadata": {
      "needs_background": "light"
     },
     "output_type": "display_data"
    }
   ],
   "source": [
    "# Boxplot for ever\n",
    "sns.boxplot(\"Sales\",data=store)"
   ]
  },
  {
   "cell_type": "code",
   "execution_count": 28,
   "id": "dec76dba",
   "metadata": {
    "ExecuteTime": {
     "end_time": "2022-06-21T11:44:31.770435Z",
     "start_time": "2022-06-21T11:44:31.071784Z"
    }
   },
   "outputs": [
    {
     "data": {
      "text/plain": [
       "<seaborn.axisgrid.FacetGrid at 0x2d78051f550>"
      ]
     },
     "execution_count": 28,
     "metadata": {},
     "output_type": "execute_result"
    },
    {
     "data": {
      "image/png": "[encoded data removed]",
      "text/plain": [
       "<Figure size 360x360 with 1 Axes>"
      ]
     },
     "metadata": {
      "needs_background": "light"
     },
     "output_type": "display_data"
    }
   ],
   "source": [
    "sns.factorplot(\"Quarter\",\"Sales\",data=store,kind=\"box\")"
   ]
  },
  {
   "cell_type": "code",
   "execution_count": 29,
   "id": "af8ef2a4",
   "metadata": {
    "ExecuteTime": {
     "end_time": "2022-06-21T11:44:43.409564Z",
     "start_time": "2022-06-21T11:44:43.253494Z"
    }
   },
   "outputs": [
    {
     "data": {
      "text/plain": [
       "<matplotlib.legend.Legend at 0x2d78349aeb0>"
      ]
     },
     "execution_count": 29,
     "metadata": {},
     "output_type": "execute_result"
    },
    {
     "data": {
      "image/png": "[encoded data removed]",
      "text/plain": [
       "<Figure size 432x288 with 1 Axes>"
      ]
     },
     "metadata": {
      "needs_background": "light"
     },
     "output_type": "display_data"
    }
   ],
   "source": [
    "store.Sales.plot(label=\"org\")\n",
    "for i in range(2,10,2):\n",
    "    store[\"Sales\"].rolling(i).mean().plot(label=str(i))\n",
    "plt.legend(loc=3)"
   ]
  },
  {
   "cell_type": "code",
   "execution_count": 30,
   "id": "b730ec01",
   "metadata": {
    "ExecuteTime": {
     "end_time": "2022-06-21T11:45:05.063925Z",
     "start_time": "2022-06-21T11:45:05.058393Z"
    }
   },
   "outputs": [],
   "source": [
    "import statsmodels.api as sm\n",
    "from statsmodels.tsa.seasonal import seasonal_decompose\n",
    "from statsmodels.tsa.holtwinters import SimpleExpSmoothing # SES\n",
    "from statsmodels.tsa.holtwinters import Holt # Holts Exponential Smoothing\n",
    "from statsmodels.tsa.holtwinters import ExponentialSmoothing # \n",
    "import statsmodels.graphics.tsaplots as tsa_plots\n",
    "import statsmodels.tsa.statespace as tm_models\n",
    "from datetime import datetime,time"
   ]
  },
  {
   "cell_type": "code",
   "execution_count": 31,
   "id": "2b8f77a1",
   "metadata": {
    "ExecuteTime": {
     "end_time": "2022-06-21T11:45:17.969485Z",
     "start_time": "2022-06-21T11:45:17.699464Z"
    }
   },
   "outputs": [
    {
     "data": {
      "image/png": "[encoded data removed]",
      "text/plain": [
       "<Figure size 432x288 with 1 Axes>"
      ]
     },
     "execution_count": 31,
     "metadata": {},
     "output_type": "execute_result"
    },
    {
     "data": {
      "image/png": "[encoded data removed]",
      "text/plain": [
       "<Figure size 432x288 with 1 Axes>"
      ]
     },
     "metadata": {
      "needs_background": "light"
     },
     "output_type": "display_data"
    },
    {
     "data": {
      "image/png": "[encoded data removed]",
      "text/plain": [
       "<Figure size 432x288 with 1 Axes>"
      ]
     },
     "metadata": {
      "needs_background": "light"
     },
     "output_type": "display_data"
    }
   ],
   "source": [
    "# ACF plots and PACF plots on Original data sets \n",
    "tsa_plots.plot_acf(store.Sales,lags=10)\n",
    "tsa_plots.plot_pacf(store.Sales)"
   ]
  },
  {
   "cell_type": "code",
   "execution_count": 32,
   "id": "369adf8b",
   "metadata": {
    "ExecuteTime": {
     "end_time": "2022-06-21T11:45:31.205738Z",
     "start_time": "2022-06-21T11:45:31.187842Z"
    }
   },
   "outputs": [],
   "source": [
    "# Amtrak.index.freq = \"MS\" \n",
    "# splitting the data into Train and Test data and considering the last 12 months data as \n",
    "# Test data and left over data as train data \n",
    "Train = store.head(48)\n",
    "Test =store.tail(12)\n",
    "# to change the index value in pandas data frame \n",
    "# Test.set_index(np.arange(1,13),inplace=True)"
   ]
  },
  {
   "cell_type": "code",
   "execution_count": 33,
   "id": "8ef9696f",
   "metadata": {
    "ExecuteTime": {
     "end_time": "2022-06-21T11:45:39.714920Z",
     "start_time": "2022-06-21T11:45:39.701575Z"
    }
   },
   "outputs": [],
   "source": [
    "# Creating a function to calculate the MAPE value for test data \n",
    "def MAPE(pred,org):\n",
    "    temp = np.abs((pred-org))*100/org\n",
    "    return np.mean(temp)"
   ]
  },
  {
   "cell_type": "code",
   "execution_count": 34,
   "id": "02240dfe",
   "metadata": {
    "ExecuteTime": {
     "end_time": "2022-06-21T11:45:50.112963Z",
     "start_time": "2022-06-21T11:45:50.086801Z"
    }
   },
   "outputs": [
    {
     "data": {
      "text/plain": [
       "9.681026212917489"
      ]
     },
     "execution_count": 34,
     "metadata": {},
     "output_type": "execute_result"
    }
   ],
   "source": [
    "# Simple Exponential Method\n",
    "ses_model = SimpleExpSmoothing(Train[\"Sales\"]).fit()\n",
    "pred_ses = ses_model.predict(start = Test.index[0],end = Test.index[-1])\n",
    "MAPE(pred_ses,Test.Sales) # 9.76"
   ]
  },
  {
   "cell_type": "code",
   "execution_count": 35,
   "id": "c23f0147",
   "metadata": {
    "ExecuteTime": {
     "end_time": "2022-06-21T11:45:59.416317Z",
     "start_time": "2022-06-21T11:45:59.380277Z"
    }
   },
   "outputs": [
    {
     "data": {
      "text/plain": [
       "11.025182503719508"
      ]
     },
     "execution_count": 35,
     "metadata": {},
     "output_type": "execute_result"
    }
   ],
   "source": [
    "# Holt method \n",
    "hw_model = Holt(Train[\"Sales\"]).fit()\n",
    "pred_hw = hw_model.predict(start = Test.index[0],end = Test.index[-1])\n",
    "MAPE(pred_hw,Test.Sales) # 9.82"
   ]
  },
  {
   "cell_type": "code",
   "execution_count": 36,
   "id": "64f6687a",
   "metadata": {
    "ExecuteTime": {
     "end_time": "2022-06-21T11:46:10.603265Z",
     "start_time": "2022-06-21T11:46:10.497069Z"
    }
   },
   "outputs": [
    {
     "data": {
      "text/plain": [
       "3.2450727952558847"
      ]
     },
     "execution_count": 36,
     "metadata": {},
     "output_type": "execute_result"
    }
   ],
   "source": [
    "# Holts winter exponential smoothing with additive seasonality and additive trend\n",
    "hwe_model_add_add = ExponentialSmoothing(Train[\"Sales\"],seasonal=\"add\",trend=\"add\",seasonal_periods=4,damped=True).fit()\n",
    "pred_hwe_add_add = hwe_model_add_add.predict(start = Test.index[0],end = Test.index[-1])\n",
    "MAPE(pred_hwe_add_add,Test.Sales)# 3.10"
   ]
  },
  {
   "cell_type": "code",
   "execution_count": 37,
   "id": "5b35b440",
   "metadata": {
    "ExecuteTime": {
     "end_time": "2022-06-21T11:46:21.573245Z",
     "start_time": "2022-06-21T11:46:21.437916Z"
    }
   },
   "outputs": [
    {
     "data": {
      "text/plain": [
       "2.993028685896603"
      ]
     },
     "execution_count": 37,
     "metadata": {},
     "output_type": "execute_result"
    }
   ],
   "source": [
    "# Holts winter exponential smoothing with multiplicative seasonality and additive trend\n",
    "hwe_model_mul_add = ExponentialSmoothing(Train[\"Sales\"],seasonal=\"mul\",trend=\"add\",seasonal_periods=4).fit()\n",
    "pred_hwe_mul_add = hwe_model_mul_add.predict(start = Test.index[0],end = Test.index[-1])\n",
    "MAPE(pred_hwe_mul_add,Test.Sales) # 2.35"
   ]
  },
  {
   "cell_type": "code",
   "execution_count": 38,
   "id": "e9fa1c65",
   "metadata": {
    "ExecuteTime": {
     "end_time": "2022-06-21T11:46:32.999645Z",
     "start_time": "2022-06-21T11:46:32.856021Z"
    }
   },
   "outputs": [
    {
     "data": {
      "text/plain": [
       "<matplotlib.legend.Legend at 0x2d781aca4c0>"
      ]
     },
     "execution_count": 38,
     "metadata": {},
     "output_type": "execute_result"
    },
    {
     "data": {
      "image/png": "[encoded data removed]",
      "text/plain": [
       "<Figure size 432x288 with 1 Axes>"
      ]
     },
     "metadata": {
      "needs_background": "light"
     },
     "output_type": "display_data"
    }
   ],
   "source": [
    "# Visualization of Forecasted values for Test data set using different methods \n",
    "plt.plot(Train.index, Train[\"Sales\"], label='Train',color=\"black\")\n",
    "plt.plot(Test.index, Test[\"Sales\"], label='Test',color=\"blue\")\n",
    "plt.plot(pred_ses.index, pred_ses, label='SimpleExponential',color=\"green\")\n",
    "plt.plot(pred_hw.index, pred_hw, label='Holts_winter',color=\"red\")\n",
    "plt.plot(pred_hwe_add_add.index,pred_hwe_add_add,label=\"HoltsWinterExponential_1\",color=\"brown\")\n",
    "plt.plot(pred_hwe_mul_add.index,pred_hwe_mul_add,label=\"HoltsWinterExponential_2\",color=\"yellow\")\n",
    "plt.legend(loc='best')"
   ]
  },
  {
   "cell_type": "code",
   "execution_count": null,
   "id": "d2d1dd09",
   "metadata": {},
   "outputs": [],
   "source": []
  }
 ],
 "metadata": {
  "kernelspec": {
   "display_name": "Python 3 (ipykernel)",
   "language": "python",
   "name": "python3"
  },
  "language_info": {
   "codemirror_mode": {
    "name": "ipython",
    "version": 3
   },
   "file_extension": ".py",
   "mimetype": "text/x-python",
   "name": "python",
   "nbconvert_exporter": "python",
   "pygments_lexer": "ipython3",
   "version": "3.9.7"
  },
  "varInspector": {
   "cols": {
    "lenName": 16,
    "lenType": 16,
    "lenVar": 40
   },
   "kernels_config": {
    "python": {
     "delete_cmd_postfix": "",
     "delete_cmd_prefix": "del ",
     "library": "var_list.py",
     "varRefreshCmd": "print(var_dic_list())"
    },
    "r": {
     "delete_cmd_postfix": ") ",
     "delete_cmd_prefix": "rm(",
     "library": "var_list.r",
     "varRefreshCmd": "cat(var_dic_list()) "
    }
   },
   "types_to_exclude": [
    "module",
    "function",
    "builtin_function_or_method",
    "instance",
    "_Feature"
   ],
   "window_display": false
  }
 },
 "nbformat": 4,
 "nbformat_minor": 5
}
